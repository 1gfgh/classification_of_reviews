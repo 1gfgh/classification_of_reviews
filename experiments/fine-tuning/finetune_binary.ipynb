{
 "cells": [
  {
   "cell_type": "markdown",
   "id": "037890ff",
   "metadata": {},
   "source": [
    "### Я открыл ноутбук"
   ]
  },
  {
   "cell_type": "markdown",
   "id": "9b367fe0",
   "metadata": {},
   "source": [
    "- а теперь, когда проект сдан, займемся его разработкой. Надо подтянуть руберта и сделать бинарную классификацию. Возьмем за хорошие отзывы рейтинга не менее 6."
   ]
  },
  {
   "cell_type": "code",
   "execution_count": 23,
   "id": "4403bb6c",
   "metadata": {},
   "outputs": [
    {
     "name": "stderr",
     "output_type": "stream",
     "text": [
      "huggingface/tokenizers: The current process just got forked, after parallelism has already been used. Disabling parallelism to avoid deadlocks...\n",
      "To disable this warning, you can either:\n",
      "\t- Avoid using `tokenizers` before the fork if possible\n",
      "\t- Explicitly set the environment variable TOKENIZERS_PARALLELISM=(true | false)\n"
     ]
    },
    {
     "name": "stdout",
     "output_type": "stream",
     "text": [
      "Found existing installation: transformers 4.38.2\n",
      "Uninstalling transformers-4.38.2:\n",
      "  Successfully uninstalled transformers-4.38.2\n",
      "Found existing installation: accelerate 0.28.0\n",
      "Uninstalling accelerate-0.28.0:\n",
      "  Successfully uninstalled accelerate-0.28.0\n"
     ]
    },
    {
     "name": "stderr",
     "output_type": "stream",
     "text": [
      "huggingface/tokenizers: The current process just got forked, after parallelism has already been used. Disabling parallelism to avoid deadlocks...\n",
      "To disable this warning, you can either:\n",
      "\t- Avoid using `tokenizers` before the fork if possible\n",
      "\t- Explicitly set the environment variable TOKENIZERS_PARALLELISM=(true | false)\n"
     ]
    },
    {
     "name": "stdout",
     "output_type": "stream",
     "text": [
      "Requirement already satisfied: torch==2.1.2 in /Users/berdov/ml/basic_ml_hse/myenv2/lib/python3.11/site-packages (2.1.2)\n",
      "Requirement already satisfied: filelock in /Users/berdov/ml/basic_ml_hse/myenv2/lib/python3.11/site-packages (from torch==2.1.2) (3.18.0)\n",
      "Requirement already satisfied: typing-extensions in /Users/berdov/ml/basic_ml_hse/myenv2/lib/python3.11/site-packages (from torch==2.1.2) (4.13.2)\n",
      "Requirement already satisfied: sympy in /Users/berdov/ml/basic_ml_hse/myenv2/lib/python3.11/site-packages (from torch==2.1.2) (1.14.0)\n",
      "Requirement already satisfied: networkx in /Users/berdov/ml/basic_ml_hse/myenv2/lib/python3.11/site-packages (from torch==2.1.2) (3.5)\n",
      "Requirement already satisfied: jinja2 in /Users/berdov/ml/basic_ml_hse/myenv2/lib/python3.11/site-packages (from torch==2.1.2) (3.1.6)\n",
      "Requirement already satisfied: fsspec in /Users/berdov/ml/basic_ml_hse/myenv2/lib/python3.11/site-packages (from torch==2.1.2) (2024.2.0)\n",
      "Requirement already satisfied: MarkupSafe>=2.0 in /Users/berdov/ml/basic_ml_hse/myenv2/lib/python3.11/site-packages (from jinja2->torch==2.1.2) (3.0.2)\n",
      "Requirement already satisfied: mpmath<1.4,>=1.1.0 in /Users/berdov/ml/basic_ml_hse/myenv2/lib/python3.11/site-packages (from sympy->torch==2.1.2) (1.3.0)\n"
     ]
    },
    {
     "name": "stderr",
     "output_type": "stream",
     "text": [
      "huggingface/tokenizers: The current process just got forked, after parallelism has already been used. Disabling parallelism to avoid deadlocks...\n",
      "To disable this warning, you can either:\n",
      "\t- Avoid using `tokenizers` before the fork if possible\n",
      "\t- Explicitly set the environment variable TOKENIZERS_PARALLELISM=(true | false)\n"
     ]
    },
    {
     "name": "stdout",
     "output_type": "stream",
     "text": [
      "Collecting transformers==4.38.2\n",
      "  Using cached transformers-4.38.2-py3-none-any.whl.metadata (130 kB)\n",
      "Requirement already satisfied: filelock in /Users/berdov/ml/basic_ml_hse/myenv2/lib/python3.11/site-packages (from transformers==4.38.2) (3.18.0)\n",
      "Requirement already satisfied: huggingface-hub<1.0,>=0.19.3 in /Users/berdov/ml/basic_ml_hse/myenv2/lib/python3.11/site-packages (from transformers==4.38.2) (0.32.4)\n",
      "Requirement already satisfied: numpy>=1.17 in /Users/berdov/ml/basic_ml_hse/myenv2/lib/python3.11/site-packages (from transformers==4.38.2) (1.26.4)\n",
      "Requirement already satisfied: packaging>=20.0 in /Users/berdov/ml/basic_ml_hse/myenv2/lib/python3.11/site-packages (from transformers==4.38.2) (25.0)\n",
      "Requirement already satisfied: pyyaml>=5.1 in /Users/berdov/ml/basic_ml_hse/myenv2/lib/python3.11/site-packages (from transformers==4.38.2) (6.0.2)\n",
      "Requirement already satisfied: regex!=2019.12.17 in /Users/berdov/ml/basic_ml_hse/myenv2/lib/python3.11/site-packages (from transformers==4.38.2) (2024.11.6)\n",
      "Requirement already satisfied: requests in /Users/berdov/ml/basic_ml_hse/myenv2/lib/python3.11/site-packages (from transformers==4.38.2) (2.32.3)\n",
      "Requirement already satisfied: tokenizers<0.19,>=0.14 in /Users/berdov/ml/basic_ml_hse/myenv2/lib/python3.11/site-packages (from transformers==4.38.2) (0.15.2)\n",
      "Requirement already satisfied: safetensors>=0.4.1 in /Users/berdov/ml/basic_ml_hse/myenv2/lib/python3.11/site-packages (from transformers==4.38.2) (0.5.3)\n",
      "Requirement already satisfied: tqdm>=4.27 in /Users/berdov/ml/basic_ml_hse/myenv2/lib/python3.11/site-packages (from transformers==4.38.2) (4.67.1)\n",
      "Requirement already satisfied: fsspec>=2023.5.0 in /Users/berdov/ml/basic_ml_hse/myenv2/lib/python3.11/site-packages (from huggingface-hub<1.0,>=0.19.3->transformers==4.38.2) (2024.2.0)\n",
      "Requirement already satisfied: typing-extensions>=3.7.4.3 in /Users/berdov/ml/basic_ml_hse/myenv2/lib/python3.11/site-packages (from huggingface-hub<1.0,>=0.19.3->transformers==4.38.2) (4.13.2)\n",
      "Requirement already satisfied: hf-xet<2.0.0,>=1.1.2 in /Users/berdov/ml/basic_ml_hse/myenv2/lib/python3.11/site-packages (from huggingface-hub<1.0,>=0.19.3->transformers==4.38.2) (1.1.3)\n",
      "Requirement already satisfied: charset-normalizer<4,>=2 in /Users/berdov/ml/basic_ml_hse/myenv2/lib/python3.11/site-packages (from requests->transformers==4.38.2) (3.4.2)\n",
      "Requirement already satisfied: idna<4,>=2.5 in /Users/berdov/ml/basic_ml_hse/myenv2/lib/python3.11/site-packages (from requests->transformers==4.38.2) (3.10)\n",
      "Requirement already satisfied: urllib3<3,>=1.21.1 in /Users/berdov/ml/basic_ml_hse/myenv2/lib/python3.11/site-packages (from requests->transformers==4.38.2) (2.4.0)\n",
      "Requirement already satisfied: certifi>=2017.4.17 in /Users/berdov/ml/basic_ml_hse/myenv2/lib/python3.11/site-packages (from requests->transformers==4.38.2) (2025.4.26)\n",
      "Using cached transformers-4.38.2-py3-none-any.whl (8.5 MB)\n",
      "Installing collected packages: transformers\n",
      "Successfully installed transformers-4.38.2\n"
     ]
    },
    {
     "name": "stderr",
     "output_type": "stream",
     "text": [
      "huggingface/tokenizers: The current process just got forked, after parallelism has already been used. Disabling parallelism to avoid deadlocks...\n",
      "To disable this warning, you can either:\n",
      "\t- Avoid using `tokenizers` before the fork if possible\n",
      "\t- Explicitly set the environment variable TOKENIZERS_PARALLELISM=(true | false)\n"
     ]
    },
    {
     "name": "stdout",
     "output_type": "stream",
     "text": [
      "Collecting accelerate==0.28.0\n",
      "  Using cached accelerate-0.28.0-py3-none-any.whl.metadata (18 kB)\n",
      "Requirement already satisfied: numpy>=1.17 in /Users/berdov/ml/basic_ml_hse/myenv2/lib/python3.11/site-packages (from accelerate==0.28.0) (1.26.4)\n",
      "Requirement already satisfied: packaging>=20.0 in /Users/berdov/ml/basic_ml_hse/myenv2/lib/python3.11/site-packages (from accelerate==0.28.0) (25.0)\n",
      "Requirement already satisfied: psutil in /Users/berdov/ml/basic_ml_hse/myenv2/lib/python3.11/site-packages (from accelerate==0.28.0) (7.0.0)\n",
      "Requirement already satisfied: pyyaml in /Users/berdov/ml/basic_ml_hse/myenv2/lib/python3.11/site-packages (from accelerate==0.28.0) (6.0.2)\n",
      "Requirement already satisfied: torch>=1.10.0 in /Users/berdov/ml/basic_ml_hse/myenv2/lib/python3.11/site-packages (from accelerate==0.28.0) (2.1.2)\n",
      "Requirement already satisfied: huggingface-hub in /Users/berdov/ml/basic_ml_hse/myenv2/lib/python3.11/site-packages (from accelerate==0.28.0) (0.32.4)\n",
      "Requirement already satisfied: safetensors>=0.3.1 in /Users/berdov/ml/basic_ml_hse/myenv2/lib/python3.11/site-packages (from accelerate==0.28.0) (0.5.3)\n",
      "Requirement already satisfied: filelock in /Users/berdov/ml/basic_ml_hse/myenv2/lib/python3.11/site-packages (from torch>=1.10.0->accelerate==0.28.0) (3.18.0)\n",
      "Requirement already satisfied: typing-extensions in /Users/berdov/ml/basic_ml_hse/myenv2/lib/python3.11/site-packages (from torch>=1.10.0->accelerate==0.28.0) (4.13.2)\n",
      "Requirement already satisfied: sympy in /Users/berdov/ml/basic_ml_hse/myenv2/lib/python3.11/site-packages (from torch>=1.10.0->accelerate==0.28.0) (1.14.0)\n",
      "Requirement already satisfied: networkx in /Users/berdov/ml/basic_ml_hse/myenv2/lib/python3.11/site-packages (from torch>=1.10.0->accelerate==0.28.0) (3.5)\n",
      "Requirement already satisfied: jinja2 in /Users/berdov/ml/basic_ml_hse/myenv2/lib/python3.11/site-packages (from torch>=1.10.0->accelerate==0.28.0) (3.1.6)\n",
      "Requirement already satisfied: fsspec in /Users/berdov/ml/basic_ml_hse/myenv2/lib/python3.11/site-packages (from torch>=1.10.0->accelerate==0.28.0) (2024.2.0)\n",
      "Requirement already satisfied: requests in /Users/berdov/ml/basic_ml_hse/myenv2/lib/python3.11/site-packages (from huggingface-hub->accelerate==0.28.0) (2.32.3)\n",
      "Requirement already satisfied: tqdm>=4.42.1 in /Users/berdov/ml/basic_ml_hse/myenv2/lib/python3.11/site-packages (from huggingface-hub->accelerate==0.28.0) (4.67.1)\n",
      "Requirement already satisfied: hf-xet<2.0.0,>=1.1.2 in /Users/berdov/ml/basic_ml_hse/myenv2/lib/python3.11/site-packages (from huggingface-hub->accelerate==0.28.0) (1.1.3)\n",
      "Requirement already satisfied: MarkupSafe>=2.0 in /Users/berdov/ml/basic_ml_hse/myenv2/lib/python3.11/site-packages (from jinja2->torch>=1.10.0->accelerate==0.28.0) (3.0.2)\n",
      "Requirement already satisfied: charset-normalizer<4,>=2 in /Users/berdov/ml/basic_ml_hse/myenv2/lib/python3.11/site-packages (from requests->huggingface-hub->accelerate==0.28.0) (3.4.2)\n",
      "Requirement already satisfied: idna<4,>=2.5 in /Users/berdov/ml/basic_ml_hse/myenv2/lib/python3.11/site-packages (from requests->huggingface-hub->accelerate==0.28.0) (3.10)\n",
      "Requirement already satisfied: urllib3<3,>=1.21.1 in /Users/berdov/ml/basic_ml_hse/myenv2/lib/python3.11/site-packages (from requests->huggingface-hub->accelerate==0.28.0) (2.4.0)\n",
      "Requirement already satisfied: certifi>=2017.4.17 in /Users/berdov/ml/basic_ml_hse/myenv2/lib/python3.11/site-packages (from requests->huggingface-hub->accelerate==0.28.0) (2025.4.26)\n",
      "Requirement already satisfied: mpmath<1.4,>=1.1.0 in /Users/berdov/ml/basic_ml_hse/myenv2/lib/python3.11/site-packages (from sympy->torch>=1.10.0->accelerate==0.28.0) (1.3.0)\n",
      "Using cached accelerate-0.28.0-py3-none-any.whl (290 kB)\n",
      "Installing collected packages: accelerate\n",
      "Successfully installed accelerate-0.28.0\n"
     ]
    },
    {
     "name": "stderr",
     "output_type": "stream",
     "text": [
      "huggingface/tokenizers: The current process just got forked, after parallelism has already been used. Disabling parallelism to avoid deadlocks...\n",
      "To disable this warning, you can either:\n",
      "\t- Avoid using `tokenizers` before the fork if possible\n",
      "\t- Explicitly set the environment variable TOKENIZERS_PARALLELISM=(true | false)\n"
     ]
    },
    {
     "name": "stdout",
     "output_type": "stream",
     "text": [
      "Requirement already satisfied: datasets==2.18.0 in /Users/berdov/ml/basic_ml_hse/myenv2/lib/python3.11/site-packages (2.18.0)\n",
      "Requirement already satisfied: filelock in /Users/berdov/ml/basic_ml_hse/myenv2/lib/python3.11/site-packages (from datasets==2.18.0) (3.18.0)\n",
      "Requirement already satisfied: numpy>=1.17 in /Users/berdov/ml/basic_ml_hse/myenv2/lib/python3.11/site-packages (from datasets==2.18.0) (1.26.4)\n",
      "Requirement already satisfied: pyarrow>=12.0.0 in /Users/berdov/ml/basic_ml_hse/myenv2/lib/python3.11/site-packages (from datasets==2.18.0) (20.0.0)\n",
      "Requirement already satisfied: pyarrow-hotfix in /Users/berdov/ml/basic_ml_hse/myenv2/lib/python3.11/site-packages (from datasets==2.18.0) (0.7)\n",
      "Requirement already satisfied: dill<0.3.9,>=0.3.0 in /Users/berdov/ml/basic_ml_hse/myenv2/lib/python3.11/site-packages (from datasets==2.18.0) (0.3.8)\n",
      "Requirement already satisfied: pandas in /Users/berdov/ml/basic_ml_hse/myenv2/lib/python3.11/site-packages (from datasets==2.18.0) (2.2.3)\n",
      "Requirement already satisfied: requests>=2.19.0 in /Users/berdov/ml/basic_ml_hse/myenv2/lib/python3.11/site-packages (from datasets==2.18.0) (2.32.3)\n",
      "Requirement already satisfied: tqdm>=4.62.1 in /Users/berdov/ml/basic_ml_hse/myenv2/lib/python3.11/site-packages (from datasets==2.18.0) (4.67.1)\n",
      "Requirement already satisfied: xxhash in /Users/berdov/ml/basic_ml_hse/myenv2/lib/python3.11/site-packages (from datasets==2.18.0) (3.5.0)\n",
      "Requirement already satisfied: multiprocess in /Users/berdov/ml/basic_ml_hse/myenv2/lib/python3.11/site-packages (from datasets==2.18.0) (0.70.16)\n",
      "Requirement already satisfied: fsspec<=2024.2.0,>=2023.1.0 in /Users/berdov/ml/basic_ml_hse/myenv2/lib/python3.11/site-packages (from fsspec[http]<=2024.2.0,>=2023.1.0->datasets==2.18.0) (2024.2.0)\n",
      "Requirement already satisfied: aiohttp in /Users/berdov/ml/basic_ml_hse/myenv2/lib/python3.11/site-packages (from datasets==2.18.0) (3.12.9)\n",
      "Requirement already satisfied: huggingface-hub>=0.19.4 in /Users/berdov/ml/basic_ml_hse/myenv2/lib/python3.11/site-packages (from datasets==2.18.0) (0.32.4)\n",
      "Requirement already satisfied: packaging in /Users/berdov/ml/basic_ml_hse/myenv2/lib/python3.11/site-packages (from datasets==2.18.0) (25.0)\n",
      "Requirement already satisfied: pyyaml>=5.1 in /Users/berdov/ml/basic_ml_hse/myenv2/lib/python3.11/site-packages (from datasets==2.18.0) (6.0.2)\n",
      "Requirement already satisfied: aiohappyeyeballs>=2.5.0 in /Users/berdov/ml/basic_ml_hse/myenv2/lib/python3.11/site-packages (from aiohttp->datasets==2.18.0) (2.6.1)\n",
      "Requirement already satisfied: aiosignal>=1.1.2 in /Users/berdov/ml/basic_ml_hse/myenv2/lib/python3.11/site-packages (from aiohttp->datasets==2.18.0) (1.3.2)\n",
      "Requirement already satisfied: attrs>=17.3.0 in /Users/berdov/ml/basic_ml_hse/myenv2/lib/python3.11/site-packages (from aiohttp->datasets==2.18.0) (25.3.0)\n",
      "Requirement already satisfied: frozenlist>=1.1.1 in /Users/berdov/ml/basic_ml_hse/myenv2/lib/python3.11/site-packages (from aiohttp->datasets==2.18.0) (1.6.2)\n",
      "Requirement already satisfied: multidict<7.0,>=4.5 in /Users/berdov/ml/basic_ml_hse/myenv2/lib/python3.11/site-packages (from aiohttp->datasets==2.18.0) (6.4.4)\n",
      "Requirement already satisfied: propcache>=0.2.0 in /Users/berdov/ml/basic_ml_hse/myenv2/lib/python3.11/site-packages (from aiohttp->datasets==2.18.0) (0.3.1)\n",
      "Requirement already satisfied: yarl<2.0,>=1.17.0 in /Users/berdov/ml/basic_ml_hse/myenv2/lib/python3.11/site-packages (from aiohttp->datasets==2.18.0) (1.20.0)\n",
      "Requirement already satisfied: idna>=2.0 in /Users/berdov/ml/basic_ml_hse/myenv2/lib/python3.11/site-packages (from yarl<2.0,>=1.17.0->aiohttp->datasets==2.18.0) (3.10)\n",
      "Requirement already satisfied: typing-extensions>=3.7.4.3 in /Users/berdov/ml/basic_ml_hse/myenv2/lib/python3.11/site-packages (from huggingface-hub>=0.19.4->datasets==2.18.0) (4.13.2)\n",
      "Requirement already satisfied: hf-xet<2.0.0,>=1.1.2 in /Users/berdov/ml/basic_ml_hse/myenv2/lib/python3.11/site-packages (from huggingface-hub>=0.19.4->datasets==2.18.0) (1.1.3)\n",
      "Requirement already satisfied: charset-normalizer<4,>=2 in /Users/berdov/ml/basic_ml_hse/myenv2/lib/python3.11/site-packages (from requests>=2.19.0->datasets==2.18.0) (3.4.2)\n",
      "Requirement already satisfied: urllib3<3,>=1.21.1 in /Users/berdov/ml/basic_ml_hse/myenv2/lib/python3.11/site-packages (from requests>=2.19.0->datasets==2.18.0) (2.4.0)\n",
      "Requirement already satisfied: certifi>=2017.4.17 in /Users/berdov/ml/basic_ml_hse/myenv2/lib/python3.11/site-packages (from requests>=2.19.0->datasets==2.18.0) (2025.4.26)\n",
      "Requirement already satisfied: python-dateutil>=2.8.2 in /Users/berdov/ml/basic_ml_hse/myenv2/lib/python3.11/site-packages (from pandas->datasets==2.18.0) (2.9.0.post0)\n",
      "Requirement already satisfied: pytz>=2020.1 in /Users/berdov/ml/basic_ml_hse/myenv2/lib/python3.11/site-packages (from pandas->datasets==2.18.0) (2025.2)\n",
      "Requirement already satisfied: tzdata>=2022.7 in /Users/berdov/ml/basic_ml_hse/myenv2/lib/python3.11/site-packages (from pandas->datasets==2.18.0) (2025.2)\n",
      "Requirement already satisfied: six>=1.5 in /Users/berdov/ml/basic_ml_hse/myenv2/lib/python3.11/site-packages (from python-dateutil>=2.8.2->pandas->datasets==2.18.0) (1.17.0)\n"
     ]
    },
    {
     "name": "stderr",
     "output_type": "stream",
     "text": [
      "huggingface/tokenizers: The current process just got forked, after parallelism has already been used. Disabling parallelism to avoid deadlocks...\n",
      "To disable this warning, you can either:\n",
      "\t- Avoid using `tokenizers` before the fork if possible\n",
      "\t- Explicitly set the environment variable TOKENIZERS_PARALLELISM=(true | false)\n"
     ]
    },
    {
     "name": "stdout",
     "output_type": "stream",
     "text": [
      "Requirement already satisfied: scikit-learn in /Users/berdov/ml/basic_ml_hse/myenv2/lib/python3.11/site-packages (1.6.1)\n",
      "Requirement already satisfied: numpy>=1.19.5 in /Users/berdov/ml/basic_ml_hse/myenv2/lib/python3.11/site-packages (from scikit-learn) (1.26.4)\n",
      "Requirement already satisfied: scipy>=1.6.0 in /Users/berdov/ml/basic_ml_hse/myenv2/lib/python3.11/site-packages (from scikit-learn) (1.15.3)\n",
      "Requirement already satisfied: joblib>=1.2.0 in /Users/berdov/ml/basic_ml_hse/myenv2/lib/python3.11/site-packages (from scikit-learn) (1.5.1)\n",
      "Requirement already satisfied: threadpoolctl>=3.1.0 in /Users/berdov/ml/basic_ml_hse/myenv2/lib/python3.11/site-packages (from scikit-learn) (3.6.0)\n"
     ]
    },
    {
     "name": "stderr",
     "output_type": "stream",
     "text": [
      "huggingface/tokenizers: The current process just got forked, after parallelism has already been used. Disabling parallelism to avoid deadlocks...\n",
      "To disable this warning, you can either:\n",
      "\t- Avoid using `tokenizers` before the fork if possible\n",
      "\t- Explicitly set the environment variable TOKENIZERS_PARALLELISM=(true | false)\n"
     ]
    },
    {
     "name": "stdout",
     "output_type": "stream",
     "text": [
      "Requirement already satisfied: numpy<2 in /Users/berdov/ml/basic_ml_hse/myenv2/lib/python3.11/site-packages (1.26.4)\n"
     ]
    }
   ],
   "source": [
    "!pip uninstall -y transformers accelerate\n",
    "!pip install torch==2.1.2\n",
    "!pip install transformers==4.38.2\n",
    "!pip install accelerate==0.28.0\n",
    "!pip install datasets==2.18.0\n",
    "!pip install scikit-learn\n",
    "!pip install \"numpy<2\""
   ]
  },
  {
   "cell_type": "code",
   "execution_count": 24,
   "id": "2a9cc232",
   "metadata": {},
   "outputs": [],
   "source": [
    "import pandas as pd\n",
    "import numpy as np\n",
    "from datasets import Dataset\n",
    "from sklearn.model_selection import train_test_split\n",
    "from transformers import (AutoTokenizer, AutoModelForSequenceClassification,\n",
    "                          TrainingArguments, Trainer)\n",
    "from sklearn.metrics import accuracy_score, f1_score, classification_report"
   ]
  },
  {
   "cell_type": "markdown",
   "id": "2b89f9f9",
   "metadata": {},
   "source": [
    "- немного порежем данные чтобы отзывов с оценкой 5 стало в 5 раз меньше"
   ]
  },
  {
   "cell_type": "code",
   "execution_count": 25,
   "id": "48471fea",
   "metadata": {},
   "outputs": [
    {
     "name": "stdout",
     "output_type": "stream",
     "text": [
      "Rating\n",
      "5    20000\n",
      "4     7315\n",
      "3     3352\n",
      "1     1425\n",
      "2     1094\n",
      "Name: count, dtype: int64\n",
      "Общий размер: 33186\n"
     ]
    }
   ],
   "source": [
    "\n",
    "df = pd.read_csv(\"lamoda_reviews.csv\")\n",
    "df.head(10)\n",
    "df['Rating'].value_counts()\n",
    "\n",
    "df_5_sampled = df[df[\"Rating\"] == 5].sample(n=20000, random_state=42)\n",
    "\n",
    "\n",
    "df_rest = df[df[\"Rating\"] != 5]\n",
    "\n",
    "\n",
    "df_new = pd.concat([df_5_sampled, df_rest], ignore_index=True)\n",
    "\n",
    "df = df_new.sample(frac=1, random_state=42).reset_index(drop=True)\n",
    "\n",
    "print(df[\"Rating\"].value_counts())\n",
    "print(\"Общий размер:\", len(df))"
   ]
  },
  {
   "cell_type": "code",
   "execution_count": null,
   "id": "d42524dc",
   "metadata": {},
   "outputs": [],
   "source": [
    "df = df.dropna(subset=[\"Review\"])\n",
    "df[\"label\"] = (df[\"Rating\"] >= 4).astype(int) \n",
    "df = df[[\"Review\", \"label\"]].rename(columns={\"Review\": \"text\"})\n"
   ]
  },
  {
   "cell_type": "code",
   "execution_count": 27,
   "id": "b3c02a3e",
   "metadata": {},
   "outputs": [
    {
     "name": "stderr",
     "output_type": "stream",
     "text": [
      "/Users/berdov/ml/basic_ml_hse/myenv2/lib/python3.11/site-packages/huggingface_hub/file_download.py:943: FutureWarning: `resume_download` is deprecated and will be removed in version 1.0.0. Downloads always resume when possible. If you want to force a new download, use `force_download=True`.\n",
      "  warnings.warn(\n",
      "Map: 100%|██████████| 26548/26548 [00:03<00:00, 8176.35 examples/s] \n",
      "Map: 100%|██████████| 6637/6637 [00:00<00:00, 13779.15 examples/s]\n",
      "Some weights of BertForSequenceClassification were not initialized from the model checkpoint at cointegrated/rubert-tiny and are newly initialized: ['classifier.bias', 'classifier.weight']\n",
      "You should probably TRAIN this model on a down-stream task to be able to use it for predictions and inference.\n"
     ]
    }
   ],
   "source": [
    "dataset = Dataset.from_pandas(df)\n",
    "dataset = dataset.train_test_split(test_size=0.2, seed=42)\n",
    "\n",
    "checkpoint = \"cointegrated/rubert-tiny\"\n",
    "tokenizer = AutoTokenizer.from_pretrained(checkpoint)\n",
    "\n",
    "def tokenize(batch):\n",
    "    return tokenizer(batch[\"text\"], padding=True, truncation=True, max_length=256)\n",
    "\n",
    "tokenized_dataset = dataset.map(tokenize, batched=True)\n",
    "\n",
    "model = AutoModelForSequenceClassification.from_pretrained(checkpoint, num_labels=2)\n",
    "\n",
    "def compute_metrics(p):\n",
    "    preds = np.argmax(p.predictions, axis=1)\n",
    "    labels = p.label_ids\n",
    "    return {\n",
    "        \"accuracy\": accuracy_score(labels, preds),\n",
    "        \"f1\": f1_score(labels, preds)\n",
    "    }"
   ]
  },
  {
   "cell_type": "code",
   "execution_count": null,
   "id": "0b548e5f",
   "metadata": {},
   "outputs": [
    {
     "name": "stderr",
     "output_type": "stream",
     "text": [
      "/Users/berdov/ml/basic_ml_hse/myenv2/lib/python3.11/site-packages/accelerate/accelerator.py:432: FutureWarning: Passing the following arguments to `Accelerator` is deprecated and will be removed in version 1.0 of Accelerate: dict_keys(['dispatch_batches', 'split_batches', 'even_batches', 'use_seedable_sampler']). Please pass an `accelerate.DataLoaderConfiguration` instead: \n",
      "dataloader_config = DataLoaderConfiguration(dispatch_batches=None, split_batches=False, even_batches=True, use_seedable_sampler=True)\n",
      "  warnings.warn(\n",
      " 13%|█▎        | 648/4980 [01:35<10:37,  6.79it/s]"
     ]
    }
   ],
   "source": [
    "\n",
    "\n",
    "training_args = TrainingArguments(\n",
    "    output_dir=\"./results\",\n",
    "    evaluation_strategy=\"epoch\",\n",
    "    logging_strategy=\"epoch\",\n",
    "    save_strategy=\"epoch\",\n",
    "    per_device_train_batch_size=16,\n",
    "    per_device_eval_batch_size=16,\n",
    "    num_train_epochs=3,\n",
    "    learning_rate=2e-5,\n",
    "    load_best_model_at_end=True,\n",
    "    metric_for_best_model=\"f1\",\n",
    "    logging_dir=\"./logs\",\n",
    "    report_to=\"none\"\n",
    ")\n",
    "\n",
    "\n",
    "trainer = Trainer(\n",
    "    model=model,\n",
    "    args=training_args,\n",
    "    train_dataset=tokenized_dataset[\"train\"],\n",
    "    eval_dataset=tokenized_dataset[\"test\"],\n",
    "    tokenizer=tokenizer,\n",
    "    compute_metrics=compute_metrics\n",
    ")\n",
    "\n",
    "trainer.train()\n",
    "\n"
   ]
  },
  {
   "cell_type": "code",
   "execution_count": null,
   "id": "4baa1beb",
   "metadata": {},
   "outputs": [
    {
     "data": {
      "text/html": [
       "<div>\n",
       "<style scoped>\n",
       "    .dataframe tbody tr th:only-of-type {\n",
       "        vertical-align: middle;\n",
       "    }\n",
       "\n",
       "    .dataframe tbody tr th {\n",
       "        vertical-align: top;\n",
       "    }\n",
       "\n",
       "    .dataframe thead th {\n",
       "        text-align: right;\n",
       "    }\n",
       "</style>\n",
       "<table border=\"1\" class=\"dataframe\">\n",
       "  <thead>\n",
       "    <tr style=\"text-align: right;\">\n",
       "      <th></th>\n",
       "      <th>text</th>\n",
       "      <th>label</th>\n",
       "    </tr>\n",
       "  </thead>\n",
       "  <tbody>\n",
       "    <tr>\n",
       "      <th>0</th>\n",
       "      <td>Отличные кроссовки, очень лёгкие, на ножке акк...</td>\n",
       "      <td>1</td>\n",
       "    </tr>\n",
       "    <tr>\n",
       "      <th>1</th>\n",
       "      <td>Красивые, стильные, удобные.</td>\n",
       "      <td>1</td>\n",
       "    </tr>\n",
       "    <tr>\n",
       "      <th>2</th>\n",
       "      <td>Все хорошо. Идет в размер</td>\n",
       "      <td>1</td>\n",
       "    </tr>\n",
       "    <tr>\n",
       "      <th>3</th>\n",
       "      <td>Удобные и красивые, но вся грязь собирается на...</td>\n",
       "      <td>1</td>\n",
       "    </tr>\n",
       "    <tr>\n",
       "      <th>4</th>\n",
       "      <td>Удобные пока не носоли.</td>\n",
       "      <td>1</td>\n",
       "    </tr>\n",
       "    <tr>\n",
       "      <th>5</th>\n",
       "      <td>Отличные кроссовки, пришли быстро. Мягкие и уд...</td>\n",
       "      <td>1</td>\n",
       "    </tr>\n",
       "    <tr>\n",
       "      <th>6</th>\n",
       "      <td>Хорошие кроссовки для Весна-Лето</td>\n",
       "      <td>1</td>\n",
       "    </tr>\n",
       "    <tr>\n",
       "      <th>7</th>\n",
       "      <td>Отличные кроссовки, на вид хорошего качества. ...</td>\n",
       "      <td>1</td>\n",
       "    </tr>\n",
       "    <tr>\n",
       "      <th>8</th>\n",
       "      <td>Все супер</td>\n",
       "      <td>1</td>\n",
       "    </tr>\n",
       "    <tr>\n",
       "      <th>9</th>\n",
       "      <td>норм</td>\n",
       "      <td>1</td>\n",
       "    </tr>\n",
       "  </tbody>\n",
       "</table>\n",
       "</div>"
      ],
      "text/plain": [
       "                                                text  label\n",
       "0  Отличные кроссовки, очень лёгкие, на ножке акк...      1\n",
       "1                       Красивые, стильные, удобные.      1\n",
       "2                          Все хорошо. Идет в размер      1\n",
       "3  Удобные и красивые, но вся грязь собирается на...      1\n",
       "4                            Удобные пока не носоли.      1\n",
       "5  Отличные кроссовки, пришли быстро. Мягкие и уд...      1\n",
       "6                   Хорошие кроссовки для Весна-Лето      1\n",
       "7  Отличные кроссовки, на вид хорошего качества. ...      1\n",
       "8                                          Все супер      1\n",
       "9                                               норм      1"
      ]
     },
     "execution_count": 6,
     "metadata": {},
     "output_type": "execute_result"
    }
   ],
   "source": [
    "results = trainer.evaluate()\n",
    "print(\"\\nФинальные метрики на тесте:\")\n",
    "for k, v in results.items():\n",
    "    print(f\"{k}: {v:.4f}\")\n",
    "\n",
    "\n",
    "predictions = trainer.predict(tokenized_dataset[\"test\"])\n",
    "y_true = predictions.label_ids\n",
    "y_pred = np.argmax(predictions.predictions, axis=1)\n",
    "\n",
    "print(\"\\nClassification Report:\")\n",
    "print(classification_report(y_true, y_pred, target_names=[\"нет\", \"да\"]))\n"
   ]
  }
 ],
 "metadata": {
  "kernelspec": {
   "display_name": "Python 3.11 (myenv2)",
   "language": "python",
   "name": "myenv"
  },
  "language_info": {
   "codemirror_mode": {
    "name": "ipython",
    "version": 3
   },
   "file_extension": ".py",
   "mimetype": "text/x-python",
   "name": "python",
   "nbconvert_exporter": "python",
   "pygments_lexer": "ipython3",
   "version": "3.11.12"
  }
 },
 "nbformat": 4,
 "nbformat_minor": 5
}
